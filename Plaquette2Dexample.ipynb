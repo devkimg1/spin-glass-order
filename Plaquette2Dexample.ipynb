{
 "cells": [
  {
   "cell_type": "markdown",
   "metadata": {},
   "source": [
    "Testing out the packages I wrote the other day. Let's see if I can implement kinetic models easily"
   ]
  },
  {
   "cell_type": "code",
   "execution_count": 1,
   "metadata": {},
   "outputs": [],
   "source": [
    "import numpy as np\n",
    "from matplotlib import pyplot as plt\n",
    "from base_model import Model\n",
    "from rejection_free_monte_carlo import RFMC"
   ]
  },
  {
   "cell_type": "code",
   "execution_count": 2,
   "metadata": {},
   "outputs": [],
   "source": [
    "class Plaquette2D(Model):\n",
    "    def __init__(self, x, y, T):\n",
    "        self.T = T\n",
    "        self.n_x = int(x)\n",
    "        self.n_y = int(y)\n",
    "        self._glass = np.random.randint(2, size = (self.n_x, self.n_y))*2 - 1\n",
    "        self._generate_energy_change_array()\n",
    "        self.total_energy()\n",
    "        self.total_probability()\n",
    "    \n",
    "    def get_probabilities(self):\n",
    "        return np.ravel(self._probabilities)\n",
    "    \n",
    "    def convert_index(self, index):\n",
    "        return [int(index/self.n_x), int(index%self.n_x)]\n",
    "    \n",
    "    def total_energy(self):\n",
    "        e = 0\n",
    "        for i in range(self.n_x):\n",
    "            for j in range(self.n_y):\n",
    "                e += self._glass[i,j]\\\n",
    "                          *self._glass[(i+1)%self.n_x,j]\\\n",
    "                          *self._glass[i,(j+1)%self.n_y]\\\n",
    "                          *self._glass[(i+1)%self.n_x,(j+1)%self.n_y]\n",
    "        self._energy = int(-e)\n",
    "        return None\n",
    "    \n",
    "    def _generate_energy_change_array(self):\n",
    "        self.energy_change_array = np.zeros((self.n_x,self.n_y))\n",
    "        for i in range(self.n_x):\n",
    "            for j in range(self.n_y):\n",
    "                self.energy_change_array[i,j] = self._energy_change(i,j)\n",
    "    \n",
    "    def energy_update(self, step):\n",
    "        x = step[0]\n",
    "        y = step[1]\n",
    "\n",
    "        self._energy += self.energy_change_array[x,y]\n",
    "\n",
    "        # recompute energies around x and y\n",
    "        a = np.array([-1, 0, 1], dtype = \"int\")\n",
    "        for i in x + a:\n",
    "            for j in y + a:\n",
    "                self.energy_change_array[i%self.n_x, j%self.n_y] = self._energy_change(i%self.n_x, j%self.n_y)\n",
    "        return\n",
    "    \n",
    "    def _energy_change(self, i, j):\n",
    "        latt = self._glass\n",
    "        t1 = latt[(i+1)%self.n_x,j]\\\n",
    "                    *latt[i,(j+1)%self.n_y]\\\n",
    "                    *latt[(i+1)%self.n_x,(j+1)%self.n_y]\n",
    "        t2 = latt[(i+1)%self.n_x,j]\\\n",
    "                    *latt[i,(j-1)%self.n_y]\\\n",
    "                    *latt[(i+1)%self.n_x,(j-1)%self.n_y]\n",
    "        t3 = latt[(i-1)%self.n_x,j]\\\n",
    "                    *latt[i,(j-1)%self.n_y]\\\n",
    "                    *latt[(i-1)%self.n_x,(j-1)%self.n_y]\n",
    "        t4 = latt[(i-1)%self.n_x,j]\\\n",
    "                    *latt[i,(j+1)%self.n_y]\\\n",
    "                    *latt[(i-1)%self.n_x,(j+1)%self.n_y]\n",
    "        \n",
    "        return int(2*latt[i,j]*(t1+t2+t3+t4))\n",
    "    \n",
    "    def total_probability(self):\n",
    "        self._probabilities = np.exp(-self.energy_change_array/self.T)\n",
    "        self._probabilities[self._probabilities > 1] = 1\n",
    "        return None\n",
    "    \n",
    "    def probability_update(self, step):\n",
    "        # recompute probabilities around x and y\n",
    "        x = step[0]\n",
    "        y = step[1]\n",
    "        a = np.array([-1, 0, 1], dtype = \"int\")\n",
    "        for i in x + a:\n",
    "            for j in y + a:\n",
    "                self._probabilities[i%self.n_x, j%self.n_y] = np.min([1,np.exp(-self.energy_change_array[i%self.n_x, j%self.n_y]/self.T)])\n",
    "        return\n",
    "    \n",
    "    def glass_update(self, step):\n",
    "        x = step[0]\n",
    "        y = step[1]\n",
    "        self._glass[x,y] = -self._glass[x,y]\n",
    "        return\n",
    "    \n",
    "    def rate(self):\n",
    "        return np.sum(self._probabilities)"
   ]
  },
  {
   "cell_type": "code",
   "execution_count": 3,
   "metadata": {},
   "outputs": [],
   "source": [
    "##model = Plaquette2D(4,4,0.1)\n",
    "#x = RFMC(model,10)\n",
    "#x.run()"
   ]
  },
  {
   "cell_type": "code",
   "execution_count": 4,
   "metadata": {},
   "outputs": [
    {
     "name": "stdout",
     "output_type": "stream",
     "text": [
      "Temperature = 0.10\n",
      "Temperature = 0.36\n",
      "Temperature = 0.62\n",
      "Temperature = 0.87\n",
      "Temperature = 1.13\n",
      "Temperature = 1.39\n",
      "Temperature = 1.65\n",
      "Temperature = 1.91\n",
      "Temperature = 2.16\n",
      "Temperature = 2.42\n",
      "Temperature = 2.68\n",
      "Temperature = 2.94\n",
      "Temperature = 3.19\n",
      "Temperature = 3.45\n",
      "Temperature = 3.71\n",
      "Temperature = 3.97\n",
      "Temperature = 4.23\n",
      "Temperature = 4.48\n",
      "Temperature = 4.74\n",
      "Temperature = 5.00\n"
     ]
    }
   ],
   "source": [
    "temperatures = np.linspace(0.1,5,20)\n",
    "energies = np.zeros(np.shape(temperatures))\n",
    "i = 0\n",
    "for T in temperatures:\n",
    "    model = Plaquette2D(4,4,T)\n",
    "    print('Temperature = %1.2f'%T)\n",
    "    x = RFMC(model,1e4)\n",
    "    x.run()\n",
    "    energies[i] = x.get_mean()/16\n",
    "    i += 1"
   ]
  },
  {
   "cell_type": "code",
   "execution_count": 10,
   "metadata": {},
   "outputs": [
    {
     "data": {
      "image/png": "[encoded data removed]",
      "text/plain": [
       "<Figure size 432x288 with 1 Axes>"
      ]
     },
     "metadata": {
      "needs_background": "light"
     },
     "output_type": "display_data"
    }
   ],
   "source": [
    "plt.plot(temperatures, energies,'o',label='RFMC')\n",
    "import pandas as pd\n",
    "data = pd.read_csv('4x4_Plaquette_Analytical_Solution.csv',sep='\\t',header=None)\n",
    "plt.plot(data[0],data[1],'r',label='Analytical')\n",
    "z=plt.legend()"
   ]
  }
 ],
 "metadata": {
  "kernelspec": {
   "display_name": "Python 3",
   "language": "python",
   "name": "python3"
  },
  "language_info": {
   "codemirror_mode": {
    "name": "ipython",
    "version": 3
   },
   "file_extension": ".py",
   "mimetype": "text/x-python",
   "name": "python",
   "nbconvert_exporter": "python",
   "pygments_lexer": "ipython3",
   "version": "3.7.3"
  }
 },
 "nbformat": 4,
 "nbformat_minor": 4
}
