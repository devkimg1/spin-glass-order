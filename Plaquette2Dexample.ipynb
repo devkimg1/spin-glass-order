{
 "cells": [
  {
   "cell_type": "markdown",
   "metadata": {},
   "source": [
    "Testing out the packages I wrote the other day. Let's see if I can implement kinetic models easily"
   ]
  },
  {
   "cell_type": "code",
   "execution_count": 2,
   "metadata": {},
   "outputs": [],
   "source": [
    "import numpy as np\n",
    "from matplotlib import pyplot as plt\n",
    "from base_model import Model\n",
    "from rejection_free_monte_carlo import RFMC"
   ]
  },
  {
   "cell_type": "code",
   "execution_count": 3,
   "metadata": {},
   "outputs": [],
   "source": [
    "class Plaquette2D(Model):\n",
    "    def __init__(self, x, y, T):\n",
    "        self.T = T\n",
    "        self.n_x = int(x)\n",
    "        self.n_y = int(y)\n",
    "        self._glass = np.random.randint(2, size = (self.n_x, self.n_y))*2 - 1\n",
    "        self._generate_energy_change_array()\n",
    "        self.total_energy()\n",
    "        self.total_probability()\n",
    "    \n",
    "    def get_probabilities(self):\n",
    "        return np.ravel(self._probabilities)\n",
    "    \n",
    "    def convert_index(self, index):\n",
    "        return [int(index/self.n_x), int(index%self.n_x)]\n",
    "    \n",
    "    def total_energy(self):\n",
    "        e = 0\n",
    "        for i in range(self.n_x):\n",
    "            for j in range(self.n_y):\n",
    "                e += self._glass[i,j]\\\n",
    "                          *self._glass[(i+1)%self.n_x,j]\\\n",
    "                          *self._glass[i,(j+1)%self.n_y]\\\n",
    "                          *self._glass[(i+1)%self.n_x,(j+1)%self.n_y]\n",
    "        self._energy = int(-e)\n",
    "        return None\n",
    "    \n",
    "    def _generate_energy_change_array(self):\n",
    "        self.energy_change_array = np.zeros((self.n_x,self.n_y))\n",
    "        for i in range(self.n_x):\n",
    "            for j in range(self.n_y):\n",
    "                self.energy_change_array[i,j] = self._energy_change(i,j)\n",
    "    \n",
    "    def energy_update(self, step):\n",
    "        x = step[0]\n",
    "        y = step[1]\n",
    "\n",
    "        self._energy += self.energy_change_array[x,y]\n",
    "\n",
    "        # recompute energies around x and y\n",
    "        a = np.array([-1, 0, 1], dtype = \"int\")\n",
    "        for i in x + a:\n",
    "            for j in y + a:\n",
    "                self.energy_change_array[i%self.n_x, j%self.n_y] = self._energy_change(i%self.n_x, j%self.n_y)\n",
    "        return\n",
    "    \n",
    "    def _energy_change(self, i, j):\n",
    "        latt = self._glass\n",
    "        t1 = latt[(i+1)%self.n_x,j]\\\n",
    "                    *latt[i,(j+1)%self.n_y]\\\n",
    "                    *latt[(i+1)%self.n_x,(j+1)%self.n_y]\n",
    "        t2 = latt[(i+1)%self.n_x,j]\\\n",
    "                    *latt[i,(j-1)%self.n_y]\\\n",
    "                    *latt[(i+1)%self.n_x,(j-1)%self.n_y]\n",
    "        t3 = latt[(i-1)%self.n_x,j]\\\n",
    "                    *latt[i,(j-1)%self.n_y]\\\n",
    "                    *latt[(i-1)%self.n_x,(j-1)%self.n_y]\n",
    "        t4 = latt[(i-1)%self.n_x,j]\\\n",
    "                    *latt[i,(j+1)%self.n_y]\\\n",
    "                    *latt[(i-1)%self.n_x,(j+1)%self.n_y]\n",
    "        \n",
    "        return int(2*latt[i,j]*(t1+t2+t3+t4))\n",
    "    \n",
    "    def total_probability(self):\n",
    "        self._probabilities = np.exp(-self.energy_change_array/self.T)\n",
    "        self._probabilities[self._probabilities > 1] = 1\n",
    "        return None\n",
    "    \n",
    "    def probability_update(self, step):\n",
    "        # recompute probabilities around x and y\n",
    "        x = step[0]\n",
    "        y = step[1]\n",
    "        a = np.array([-1, 0, 1], dtype = \"int\")\n",
    "        for i in x + a:\n",
    "            for j in y + a:\n",
    "                self._probabilities[i%self.n_x, j%self.n_y] = np.min([1,np.exp(-self.energy_change_array[i%self.n_x, j%self.n_y]/self.T)])\n",
    "        return\n",
    "    \n",
    "    def glass_update(self, step):\n",
    "        x = step[0]\n",
    "        y = step[1]\n",
    "        self._glass[x,y] = -self._glass[x,y]\n",
    "        return\n",
    "    \n",
    "    def rate(self):\n",
    "        return np.sum(self._probabilities)"
   ]
  },
  {
   "cell_type": "code",
   "execution_count": 9,
   "metadata": {},
   "outputs": [],
   "source": [
    "##model = Plaquette2D(4,4,0.1)\n",
    "#x = RFMC(model,10)\n",
    "#x.run()"
   ]
  },
  {
   "cell_type": "code",
   "execution_count": 9,
   "metadata": {},
   "outputs": [
    {
     "name": "stdout",
     "output_type": "stream",
     "text": [
      "Temperature = 0.10\n",
      "0.558665899999994\n",
      "Temperature = 0.36\n",
      "0.5422615999999607\n",
      "Temperature = 0.62\n",
      "0.5821700999999848\n",
      "Temperature = 0.87\n",
      "0.5425970000000007\n",
      "Temperature = 1.13\n",
      "0.5639944000000128\n",
      "Temperature = 1.39\n",
      "0.5381945999999971\n",
      "Temperature = 1.65\n",
      "0.5222385999999801\n",
      "Temperature = 1.91\n",
      "0.5310706999999866\n",
      "Temperature = 2.16\n",
      "0.5428417999999624\n",
      "Temperature = 2.42\n",
      "0.553058300000032\n",
      "Temperature = 2.68\n",
      "0.5604438999999957\n",
      "Temperature = 2.94\n",
      "0.5416601000000014\n",
      "Temperature = 3.19\n",
      "0.5425640000000271\n",
      "Temperature = 3.45\n",
      "0.5227849000000333\n",
      "Temperature = 3.71\n",
      "0.5657176999999933\n",
      "Temperature = 3.97\n",
      "0.5250594000000319\n",
      "Temperature = 4.23\n",
      "0.5324843999999871\n",
      "Temperature = 4.48\n",
      "0.5293653000000518\n",
      "Temperature = 4.74\n",
      "0.5442429000000288\n",
      "Temperature = 5.00\n",
      "0.5379833999999732\n"
     ]
    }
   ],
   "source": [
    "import time\n",
    "\n",
    "t0 = time.perf_counter()\n",
    "temperatures = np.linspace(0.1,5,20)\n",
    "energies = np.zeros(np.shape(temperatures))\n",
    "i = 0\n",
    "for T in temperatures:\n",
    "    model = Plaquette2D(4,4,T)\n",
    "    print('Temperature = %1.2f'%T)\n",
    "    x = RFMC(model)\n",
    "    x.run(1600)\n",
    "    energies[i] = x.get_mean()/16\n",
    "    i += 1\n",
    "    print(time.perf_counter()-t0)\n",
    "    t0 = time.perf_counter()"
   ]
  },
  {
   "cell_type": "code",
   "execution_count": 10,
   "metadata": {},
   "outputs": [
    {
     "data": {
      "image/png": "[encoded data removed]",
      "text/plain": [
       "<Figure size 432x288 with 1 Axes>"
      ]
     },
     "metadata": {
      "needs_background": "light"
     },
     "output_type": "display_data"
    }
   ],
   "source": [
    "plt.plot(temperatures, energies,'o',label='RFMC')\n",
    "import pandas as pd\n",
    "data = pd.read_csv('4x4_Plaquette_Analytical_Solution.csv',sep='\\t',header=None)\n",
    "plt.plot(data[0],data[1],'r',label='Analytical')\n",
    "z=plt.legend()"
   ]
  },
  {
   "cell_type": "code",
   "execution_count": 7,
   "metadata": {},
   "outputs": [
    {
     "name": "stdout",
     "output_type": "stream",
     "text": [
      "Temperature = 0.10\n",
      "1230.8542798999997\n",
      "Temperature = 0.64\n",
      "1078.0389864999997\n",
      "Temperature = 1.19\n",
      "2363.2035429999996\n",
      "Temperature = 1.73\n",
      "3044.1661421999997\n",
      "Temperature = 2.28\n"
     ]
    },
    {
     "ename": "KeyboardInterrupt",
     "evalue": "",
     "output_type": "error",
     "traceback": [
      "\u001b[1;31m---------------------------------------------------------------------------\u001b[0m",
      "\u001b[1;31mKeyboardInterrupt\u001b[0m                         Traceback (most recent call last)",
      "\u001b[1;32m<ipython-input-7-6f925c3ade9e>\u001b[0m in \u001b[0;36m<module>\u001b[1;34m\u001b[0m\n\u001b[0;32m      9\u001b[0m     \u001b[0mprint\u001b[0m\u001b[1;33m(\u001b[0m\u001b[1;34m'Temperature = %1.2f'\u001b[0m\u001b[1;33m%\u001b[0m\u001b[0mT\u001b[0m\u001b[1;33m)\u001b[0m\u001b[1;33m\u001b[0m\u001b[1;33m\u001b[0m\u001b[0m\n\u001b[0;32m     10\u001b[0m     \u001b[0mx\u001b[0m \u001b[1;33m=\u001b[0m \u001b[0mRFMC\u001b[0m\u001b[1;33m(\u001b[0m\u001b[0mmodel\u001b[0m\u001b[1;33m)\u001b[0m\u001b[1;33m\u001b[0m\u001b[1;33m\u001b[0m\u001b[0m\n\u001b[1;32m---> 11\u001b[1;33m     \u001b[0mx\u001b[0m\u001b[1;33m.\u001b[0m\u001b[0mrun\u001b[0m\u001b[1;33m(\u001b[0m\u001b[1;36m2\u001b[0m\u001b[1;33m**\u001b[0m\u001b[1;36m20\u001b[0m\u001b[1;33m)\u001b[0m\u001b[1;33m\u001b[0m\u001b[1;33m\u001b[0m\u001b[0m\n\u001b[0m\u001b[0;32m     12\u001b[0m     \u001b[0menergies1000\u001b[0m\u001b[1;33m[\u001b[0m\u001b[0mi\u001b[0m\u001b[1;33m]\u001b[0m \u001b[1;33m=\u001b[0m \u001b[0mx\u001b[0m\u001b[1;33m.\u001b[0m\u001b[0mget_mean\u001b[0m\u001b[1;33m(\u001b[0m\u001b[1;33m)\u001b[0m\u001b[1;33m/\u001b[0m\u001b[1;36m2\u001b[0m\u001b[1;33m**\u001b[0m\u001b[1;36m16\u001b[0m\u001b[1;33m\u001b[0m\u001b[1;33m\u001b[0m\u001b[0m\n\u001b[0;32m     13\u001b[0m     \u001b[0mi\u001b[0m \u001b[1;33m+=\u001b[0m \u001b[1;36m1\u001b[0m\u001b[1;33m\u001b[0m\u001b[1;33m\u001b[0m\u001b[0m\n",
      "\u001b[1;32m~\\Documents\\GitHub\\spin-glass-order\\rejection_free_monte_carlo.py\u001b[0m in \u001b[0;36mrun\u001b[1;34m(self, steps)\u001b[0m\n\u001b[0;32m     21\u001b[0m         \u001b[1;31m# The iterations ignore the first state. This is an arbitrary choice\u001b[0m\u001b[1;33m\u001b[0m\u001b[1;33m\u001b[0m\u001b[1;33m\u001b[0m\u001b[0m\n\u001b[0;32m     22\u001b[0m         \u001b[1;32mfor\u001b[0m \u001b[0mi\u001b[0m \u001b[1;32min\u001b[0m \u001b[0mrange\u001b[0m\u001b[1;33m(\u001b[0m\u001b[0msteps\u001b[0m\u001b[1;33m)\u001b[0m\u001b[1;33m:\u001b[0m\u001b[1;33m\u001b[0m\u001b[1;33m\u001b[0m\u001b[0m\n\u001b[1;32m---> 23\u001b[1;33m             \u001b[0mindex\u001b[0m \u001b[1;33m=\u001b[0m \u001b[0mself\u001b[0m\u001b[1;33m.\u001b[0m\u001b[0mmove_selection\u001b[0m\u001b[1;33m(\u001b[0m\u001b[1;33m)\u001b[0m\u001b[1;33m\u001b[0m\u001b[1;33m\u001b[0m\u001b[0m\n\u001b[0m\u001b[0;32m     24\u001b[0m             \u001b[0mstep\u001b[0m \u001b[1;33m=\u001b[0m \u001b[0mself\u001b[0m\u001b[1;33m.\u001b[0m\u001b[0mmodel\u001b[0m\u001b[1;33m.\u001b[0m\u001b[0mconvert_index\u001b[0m\u001b[1;33m(\u001b[0m\u001b[0mindex\u001b[0m\u001b[1;33m)\u001b[0m\u001b[1;33m\u001b[0m\u001b[1;33m\u001b[0m\u001b[0m\n\u001b[0;32m     25\u001b[0m \u001b[1;33m\u001b[0m\u001b[0m\n",
      "\u001b[1;32m~\\Documents\\GitHub\\spin-glass-order\\rejection_free_monte_carlo.py\u001b[0m in \u001b[0;36mmove_selection\u001b[1;34m(self)\u001b[0m\n\u001b[0;32m     46\u001b[0m                 \u001b[1;32mreturn\u001b[0m \u001b[0mi\u001b[0m\u001b[1;33m\u001b[0m\u001b[1;33m\u001b[0m\u001b[0m\n\u001b[0;32m     47\u001b[0m         return max - 1'''\n\u001b[1;32m---> 48\u001b[1;33m         \u001b[1;32mreturn\u001b[0m \u001b[0mnp\u001b[0m\u001b[1;33m.\u001b[0m\u001b[0mrandom\u001b[0m\u001b[1;33m.\u001b[0m\u001b[0mchoice\u001b[0m\u001b[1;33m(\u001b[0m\u001b[0mnp\u001b[0m\u001b[1;33m.\u001b[0m\u001b[0msize\u001b[0m\u001b[1;33m(\u001b[0m\u001b[0m_p\u001b[0m\u001b[1;33m)\u001b[0m\u001b[1;33m,\u001b[0m \u001b[0mp\u001b[0m\u001b[1;33m=\u001b[0m\u001b[0m_p\u001b[0m\u001b[1;33m/\u001b[0m\u001b[0mnp\u001b[0m\u001b[1;33m.\u001b[0m\u001b[0msum\u001b[0m\u001b[1;33m(\u001b[0m\u001b[0m_p\u001b[0m\u001b[1;33m)\u001b[0m\u001b[1;33m)\u001b[0m\u001b[1;33m\u001b[0m\u001b[1;33m\u001b[0m\u001b[0m\n\u001b[0m\u001b[0;32m     49\u001b[0m \u001b[1;33m\u001b[0m\u001b[0m\n\u001b[0;32m     50\u001b[0m     \u001b[1;32mdef\u001b[0m \u001b[0mtime_calculation\u001b[0m\u001b[1;33m(\u001b[0m\u001b[0mself\u001b[0m\u001b[1;33m,\u001b[0m \u001b[0mrate\u001b[0m\u001b[1;33m)\u001b[0m\u001b[1;33m:\u001b[0m\u001b[1;33m\u001b[0m\u001b[1;33m\u001b[0m\u001b[0m\n",
      "\u001b[1;31mKeyboardInterrupt\u001b[0m: "
     ]
    }
   ],
   "source": [
    "import time\n",
    "\n",
    "t0 = time.perf_counter()\n",
    "temperatures1000 = np.linspace(0.1,5,10)\n",
    "energies1000 = np.zeros(np.shape(temperatures1000))\n",
    "i = 0\n",
    "for T in temperatures1000:\n",
    "    model = Plaquette2D(2**8,2**8,T)\n",
    "    print('Temperature = %1.2f'%T)\n",
    "    x = RFMC(model)\n",
    "    x.run(2**20)\n",
    "    energies1000[i] = x.get_mean()/2**16\n",
    "    i += 1\n",
    "    print(time.perf_counter()-t0)\n",
    "    t0 = time.perf_counter()\n",
    "    "
   ]
  },
  {
   "cell_type": "code",
   "execution_count": 6,
   "metadata": {},
   "outputs": [
    {
     "data": {
      "text/plain": [
       "[<matplotlib.lines.Line2D at 0x1d747b75240>]"
      ]
     },
     "execution_count": 6,
     "metadata": {},
     "output_type": "execute_result"
    },
    {
     "data": {
      "image/png": "[encoded data removed]",
      "text/plain": [
       "<Figure size 432x288 with 1 Axes>"
      ]
     },
     "metadata": {
      "needs_background": "light"
     },
     "output_type": "display_data"
    }
   ],
   "source": [
    "plt.plot(temperatures1000, energies1000,'o',label='RFMC')"
   ]
  },
  {
   "cell_type": "code",
   "execution_count": 6,
   "metadata": {},
   "outputs": [
    {
     "name": "stdout",
     "output_type": "stream",
     "text": [
      "         19558770 function calls in 153.639 seconds\n",
      "\n",
      "   Ordered by: standard name\n",
      "\n",
      "   ncalls  tottime  percall  cumtime  percall filename:lineno(function)\n",
      "  1235484    0.831    0.000   13.503    0.000 <__array_function__ internals>:2(amin)\n",
      "        1    0.000    0.000    0.000    0.000 <__array_function__ internals>:2(prod)\n",
      "   137277    0.122    0.000    0.802    0.000 <__array_function__ internals>:2(ravel)\n",
      "   137276    0.118    0.000    0.312    0.000 <__array_function__ internals>:2(size)\n",
      "   274553    0.207    0.000   12.067    0.000 <__array_function__ internals>:2(sum)\n",
      "   137277    0.126    0.000    0.928    0.000 <ipython-input-3-5200ec3a2d19>:11(get_probabilities)\n",
      "   137276    0.267    0.000    0.267    0.000 <ipython-input-3-5200ec3a2d19>:14(convert_index)\n",
      "        1    0.097    0.097    0.097    0.097 <ipython-input-3-5200ec3a2d19>:17(total_energy)\n",
      "        1    0.000    0.000    0.525    0.525 <ipython-input-3-5200ec3a2d19>:2(__init__)\n",
      "        1    0.044    0.044    0.426    0.426 <ipython-input-3-5200ec3a2d19>:28(_generate_energy_change_array)\n",
      "   137276    4.636    0.000   22.749    0.000 <ipython-input-3-5200ec3a2d19>:34(energy_update)\n",
      "  1301020   17.762    0.000   17.762    0.000 <ipython-input-3-5200ec3a2d19>:47(_energy_change)\n",
      "        1    0.001    0.001    0.001    0.001 <ipython-input-3-5200ec3a2d19>:64(total_probability)\n",
      "   137276    8.413    0.000   22.379    0.000 <ipython-input-3-5200ec3a2d19>:69(probability_update)\n",
      "   137276    0.279    0.000    0.279    0.000 <ipython-input-3-5200ec3a2d19>:79(glass_update)\n",
      "   137276    0.131    0.000    6.575    0.000 <ipython-input-3-5200ec3a2d19>:85(rate)\n",
      "        1    0.000    0.000  153.639  153.639 <ipython-input-6-a10483f61aef>:4(perform)\n",
      "        1    0.000    0.000  153.639  153.639 <string>:1(<module>)\n",
      "   137277    0.060    0.000    0.149    0.000 _asarray.py:86(asanyarray)\n",
      "   137277    0.025    0.000    0.025    0.000 fromnumeric.py:1701(_ravel_dispatcher)\n",
      "   137277    0.225    0.000    0.570    0.000 fromnumeric.py:1705(ravel)\n",
      "   274553    0.042    0.000    0.042    0.000 fromnumeric.py:2100(_sum_dispatcher)\n",
      "   274553    0.439    0.000   11.631    0.000 fromnumeric.py:2105(sum)\n",
      "  1235484    0.172    0.000    0.172    0.000 fromnumeric.py:2709(_amin_dispatcher)\n",
      "  1235484    1.365    0.000   11.893    0.000 fromnumeric.py:2714(amin)\n",
      "        1    0.000    0.000    0.000    0.000 fromnumeric.py:2876(_prod_dispatcher)\n",
      "        1    0.000    0.000    0.000    0.000 fromnumeric.py:2881(prod)\n",
      "   137276    0.029    0.000    0.029    0.000 fromnumeric.py:3113(_size_dispatcher)\n",
      "   137276    0.084    0.000    0.084    0.000 fromnumeric.py:3117(size)\n",
      "  1510038    2.951    0.000   21.646    0.000 fromnumeric.py:70(_wrapreduction)\n",
      "  1510038    0.735    0.000    0.735    0.000 fromnumeric.py:71(<dictcomp>)\n",
      "   274552    0.338    0.000    0.410    0.000 getlimits.py:366(__new__)\n",
      "   274552    0.211    0.000    0.358    0.000 numerictypes.py:286(issubclass_)\n",
      "   137276    0.201    0.000    0.574    0.000 numerictypes.py:360(issubdtype)\n",
      "        1    0.000    0.000    0.000    0.000 rejection_free_monte_carlo.py:13(__init__)\n",
      "        1    0.954    0.954  153.114  153.114 rejection_free_monte_carlo.py:17(run)\n",
      "   137277    6.932    0.000   98.645    0.001 rejection_free_monte_carlo.py:38(move_selection)\n",
      "   137276    0.432    0.000    1.265    0.000 rejection_free_monte_carlo.py:52(time_calculation)\n",
      "        1    0.000    0.000  153.639  153.639 {built-in method builtins.exec}\n",
      "  1235485    0.681    0.000    0.681    0.000 {built-in method builtins.getattr}\n",
      "   411830    0.110    0.000    0.110    0.000 {built-in method builtins.isinstance}\n",
      "   411828    0.162    0.000    0.162    0.000 {built-in method builtins.issubclass}\n",
      "   411829    1.285    0.000    1.285    0.000 {built-in method numpy.array}\n",
      "  1784591    0.961    0.000   25.139    0.000 {built-in method numpy.core._multiarray_umath.implement_array_function}\n",
      "        3    0.000    0.000    0.000    0.000 {built-in method numpy.zeros}\n",
      "   137276   83.865    0.001   84.849    0.001 {method 'choice' of 'numpy.random.mtrand.RandomState' objects}\n",
      "        1    0.000    0.000    0.000    0.000 {method 'disable' of '_lsprof.Profiler' objects}\n",
      "   274552    0.072    0.000    0.072    0.000 {method 'get' of 'dict' objects}\n",
      "  1510038    0.197    0.000    0.197    0.000 {method 'items' of 'dict' objects}\n",
      "        1    0.001    0.001    0.001    0.001 {method 'randint' of 'numpy.random.mtrand.RandomState' objects}\n",
      "   137277    0.159    0.000    0.159    0.000 {method 'ravel' of 'numpy.ndarray' objects}\n",
      "  1510038   17.082    0.000   17.082    0.000 {method 'reduce' of 'numpy.ufunc' objects}\n",
      "   137276    0.833    0.000    0.833    0.000 {method 'uniform' of 'numpy.random.mtrand.RandomState' objects}\n",
      "\n",
      "\n"
     ]
    },
    {
     "ename": "KeyboardInterrupt",
     "evalue": "",
     "output_type": "error",
     "traceback": [
      "\u001b[1;31m---------------------------------------------------------------------------\u001b[0m",
      "\u001b[1;31mKeyboardInterrupt\u001b[0m                         Traceback (most recent call last)",
      "\u001b[1;32m<ipython-input-6-a10483f61aef>\u001b[0m in \u001b[0;36m<module>\u001b[1;34m\u001b[0m\n\u001b[0;32m      7\u001b[0m     \u001b[0mx\u001b[0m\u001b[1;33m.\u001b[0m\u001b[0mrun\u001b[0m\u001b[1;33m(\u001b[0m\u001b[1;36m1e6\u001b[0m\u001b[1;33m)\u001b[0m\u001b[1;33m\u001b[0m\u001b[1;33m\u001b[0m\u001b[0m\n\u001b[0;32m      8\u001b[0m \u001b[1;33m\u001b[0m\u001b[0m\n\u001b[1;32m----> 9\u001b[1;33m \u001b[0mcProfile\u001b[0m\u001b[1;33m.\u001b[0m\u001b[0mrun\u001b[0m\u001b[1;33m(\u001b[0m\u001b[1;34m\"perform()\"\u001b[0m\u001b[1;33m)\u001b[0m\u001b[1;33m\u001b[0m\u001b[1;33m\u001b[0m\u001b[0m\n\u001b[0m",
      "\u001b[1;32mc:\\users\\jiwon\\appdata\\local\\programs\\python\\lib\\cProfile.py\u001b[0m in \u001b[0;36mrun\u001b[1;34m(statement, filename, sort)\u001b[0m\n\u001b[0;32m     14\u001b[0m \u001b[1;33m\u001b[0m\u001b[0m\n\u001b[0;32m     15\u001b[0m \u001b[1;32mdef\u001b[0m \u001b[0mrun\u001b[0m\u001b[1;33m(\u001b[0m\u001b[0mstatement\u001b[0m\u001b[1;33m,\u001b[0m \u001b[0mfilename\u001b[0m\u001b[1;33m=\u001b[0m\u001b[1;32mNone\u001b[0m\u001b[1;33m,\u001b[0m \u001b[0msort\u001b[0m\u001b[1;33m=\u001b[0m\u001b[1;33m-\u001b[0m\u001b[1;36m1\u001b[0m\u001b[1;33m)\u001b[0m\u001b[1;33m:\u001b[0m\u001b[1;33m\u001b[0m\u001b[1;33m\u001b[0m\u001b[0m\n\u001b[1;32m---> 16\u001b[1;33m     \u001b[1;32mreturn\u001b[0m \u001b[0m_pyprofile\u001b[0m\u001b[1;33m.\u001b[0m\u001b[0m_Utils\u001b[0m\u001b[1;33m(\u001b[0m\u001b[0mProfile\u001b[0m\u001b[1;33m)\u001b[0m\u001b[1;33m.\u001b[0m\u001b[0mrun\u001b[0m\u001b[1;33m(\u001b[0m\u001b[0mstatement\u001b[0m\u001b[1;33m,\u001b[0m \u001b[0mfilename\u001b[0m\u001b[1;33m,\u001b[0m \u001b[0msort\u001b[0m\u001b[1;33m)\u001b[0m\u001b[1;33m\u001b[0m\u001b[1;33m\u001b[0m\u001b[0m\n\u001b[0m\u001b[0;32m     17\u001b[0m \u001b[1;33m\u001b[0m\u001b[0m\n\u001b[0;32m     18\u001b[0m \u001b[1;32mdef\u001b[0m \u001b[0mrunctx\u001b[0m\u001b[1;33m(\u001b[0m\u001b[0mstatement\u001b[0m\u001b[1;33m,\u001b[0m \u001b[0mglobals\u001b[0m\u001b[1;33m,\u001b[0m \u001b[0mlocals\u001b[0m\u001b[1;33m,\u001b[0m \u001b[0mfilename\u001b[0m\u001b[1;33m=\u001b[0m\u001b[1;32mNone\u001b[0m\u001b[1;33m,\u001b[0m \u001b[0msort\u001b[0m\u001b[1;33m=\u001b[0m\u001b[1;33m-\u001b[0m\u001b[1;36m1\u001b[0m\u001b[1;33m)\u001b[0m\u001b[1;33m:\u001b[0m\u001b[1;33m\u001b[0m\u001b[1;33m\u001b[0m\u001b[0m\n",
      "\u001b[1;32mc:\\users\\jiwon\\appdata\\local\\programs\\python\\lib\\profile.py\u001b[0m in \u001b[0;36mrun\u001b[1;34m(self, statement, filename, sort)\u001b[0m\n\u001b[0;32m     51\u001b[0m         \u001b[0mprof\u001b[0m \u001b[1;33m=\u001b[0m \u001b[0mself\u001b[0m\u001b[1;33m.\u001b[0m\u001b[0mprofiler\u001b[0m\u001b[1;33m(\u001b[0m\u001b[1;33m)\u001b[0m\u001b[1;33m\u001b[0m\u001b[1;33m\u001b[0m\u001b[0m\n\u001b[0;32m     52\u001b[0m         \u001b[1;32mtry\u001b[0m\u001b[1;33m:\u001b[0m\u001b[1;33m\u001b[0m\u001b[1;33m\u001b[0m\u001b[0m\n\u001b[1;32m---> 53\u001b[1;33m             \u001b[0mprof\u001b[0m\u001b[1;33m.\u001b[0m\u001b[0mrun\u001b[0m\u001b[1;33m(\u001b[0m\u001b[0mstatement\u001b[0m\u001b[1;33m)\u001b[0m\u001b[1;33m\u001b[0m\u001b[1;33m\u001b[0m\u001b[0m\n\u001b[0m\u001b[0;32m     54\u001b[0m         \u001b[1;32mexcept\u001b[0m \u001b[0mSystemExit\u001b[0m\u001b[1;33m:\u001b[0m\u001b[1;33m\u001b[0m\u001b[1;33m\u001b[0m\u001b[0m\n\u001b[0;32m     55\u001b[0m             \u001b[1;32mpass\u001b[0m\u001b[1;33m\u001b[0m\u001b[1;33m\u001b[0m\u001b[0m\n",
      "\u001b[1;32mc:\\users\\jiwon\\appdata\\local\\programs\\python\\lib\\cProfile.py\u001b[0m in \u001b[0;36mrun\u001b[1;34m(self, cmd)\u001b[0m\n\u001b[0;32m     93\u001b[0m         \u001b[1;32mimport\u001b[0m \u001b[0m__main__\u001b[0m\u001b[1;33m\u001b[0m\u001b[1;33m\u001b[0m\u001b[0m\n\u001b[0;32m     94\u001b[0m         \u001b[0mdict\u001b[0m \u001b[1;33m=\u001b[0m \u001b[0m__main__\u001b[0m\u001b[1;33m.\u001b[0m\u001b[0m__dict__\u001b[0m\u001b[1;33m\u001b[0m\u001b[1;33m\u001b[0m\u001b[0m\n\u001b[1;32m---> 95\u001b[1;33m         \u001b[1;32mreturn\u001b[0m \u001b[0mself\u001b[0m\u001b[1;33m.\u001b[0m\u001b[0mrunctx\u001b[0m\u001b[1;33m(\u001b[0m\u001b[0mcmd\u001b[0m\u001b[1;33m,\u001b[0m \u001b[0mdict\u001b[0m\u001b[1;33m,\u001b[0m \u001b[0mdict\u001b[0m\u001b[1;33m)\u001b[0m\u001b[1;33m\u001b[0m\u001b[1;33m\u001b[0m\u001b[0m\n\u001b[0m\u001b[0;32m     96\u001b[0m \u001b[1;33m\u001b[0m\u001b[0m\n\u001b[0;32m     97\u001b[0m     \u001b[1;32mdef\u001b[0m \u001b[0mrunctx\u001b[0m\u001b[1;33m(\u001b[0m\u001b[0mself\u001b[0m\u001b[1;33m,\u001b[0m \u001b[0mcmd\u001b[0m\u001b[1;33m,\u001b[0m \u001b[0mglobals\u001b[0m\u001b[1;33m,\u001b[0m \u001b[0mlocals\u001b[0m\u001b[1;33m)\u001b[0m\u001b[1;33m:\u001b[0m\u001b[1;33m\u001b[0m\u001b[1;33m\u001b[0m\u001b[0m\n",
      "\u001b[1;32mc:\\users\\jiwon\\appdata\\local\\programs\\python\\lib\\cProfile.py\u001b[0m in \u001b[0;36mrunctx\u001b[1;34m(self, cmd, globals, locals)\u001b[0m\n\u001b[0;32m     98\u001b[0m         \u001b[0mself\u001b[0m\u001b[1;33m.\u001b[0m\u001b[0menable\u001b[0m\u001b[1;33m(\u001b[0m\u001b[1;33m)\u001b[0m\u001b[1;33m\u001b[0m\u001b[1;33m\u001b[0m\u001b[0m\n\u001b[0;32m     99\u001b[0m         \u001b[1;32mtry\u001b[0m\u001b[1;33m:\u001b[0m\u001b[1;33m\u001b[0m\u001b[1;33m\u001b[0m\u001b[0m\n\u001b[1;32m--> 100\u001b[1;33m             \u001b[0mexec\u001b[0m\u001b[1;33m(\u001b[0m\u001b[0mcmd\u001b[0m\u001b[1;33m,\u001b[0m \u001b[0mglobals\u001b[0m\u001b[1;33m,\u001b[0m \u001b[0mlocals\u001b[0m\u001b[1;33m)\u001b[0m\u001b[1;33m\u001b[0m\u001b[1;33m\u001b[0m\u001b[0m\n\u001b[0m\u001b[0;32m    101\u001b[0m         \u001b[1;32mfinally\u001b[0m\u001b[1;33m:\u001b[0m\u001b[1;33m\u001b[0m\u001b[1;33m\u001b[0m\u001b[0m\n\u001b[0;32m    102\u001b[0m             \u001b[0mself\u001b[0m\u001b[1;33m.\u001b[0m\u001b[0mdisable\u001b[0m\u001b[1;33m(\u001b[0m\u001b[1;33m)\u001b[0m\u001b[1;33m\u001b[0m\u001b[1;33m\u001b[0m\u001b[0m\n",
      "\u001b[1;32m<string>\u001b[0m in \u001b[0;36m<module>\u001b[1;34m\u001b[0m\n",
      "\u001b[1;32m<ipython-input-6-a10483f61aef>\u001b[0m in \u001b[0;36mperform\u001b[1;34m()\u001b[0m\n\u001b[0;32m      5\u001b[0m     \u001b[0mmodel\u001b[0m \u001b[1;33m=\u001b[0m \u001b[0mPlaquette2D\u001b[0m\u001b[1;33m(\u001b[0m\u001b[1;36m2\u001b[0m\u001b[1;33m**\u001b[0m\u001b[1;36m8\u001b[0m\u001b[1;33m,\u001b[0m\u001b[1;36m2\u001b[0m\u001b[1;33m**\u001b[0m\u001b[1;36m8\u001b[0m\u001b[1;33m,\u001b[0m\u001b[1;36m5\u001b[0m\u001b[1;33m)\u001b[0m\u001b[1;33m\u001b[0m\u001b[1;33m\u001b[0m\u001b[0m\n\u001b[0;32m      6\u001b[0m     \u001b[0mx\u001b[0m \u001b[1;33m=\u001b[0m \u001b[0mRFMC\u001b[0m\u001b[1;33m(\u001b[0m\u001b[0mmodel\u001b[0m\u001b[1;33m)\u001b[0m\u001b[1;33m\u001b[0m\u001b[1;33m\u001b[0m\u001b[0m\n\u001b[1;32m----> 7\u001b[1;33m     \u001b[0mx\u001b[0m\u001b[1;33m.\u001b[0m\u001b[0mrun\u001b[0m\u001b[1;33m(\u001b[0m\u001b[1;36m1e6\u001b[0m\u001b[1;33m)\u001b[0m\u001b[1;33m\u001b[0m\u001b[1;33m\u001b[0m\u001b[0m\n\u001b[0m\u001b[0;32m      8\u001b[0m \u001b[1;33m\u001b[0m\u001b[0m\n\u001b[0;32m      9\u001b[0m \u001b[0mcProfile\u001b[0m\u001b[1;33m.\u001b[0m\u001b[0mrun\u001b[0m\u001b[1;33m(\u001b[0m\u001b[1;34m\"perform()\"\u001b[0m\u001b[1;33m)\u001b[0m\u001b[1;33m\u001b[0m\u001b[1;33m\u001b[0m\u001b[0m\n",
      "\u001b[1;32m~\\Documents\\GitHub\\spin-glass-order\\rejection_free_monte_carlo.py\u001b[0m in \u001b[0;36mrun\u001b[1;34m(self, steps)\u001b[0m\n\u001b[0;32m     21\u001b[0m         \u001b[1;31m# The iterations ignore the first state. This is an arbitrary choice\u001b[0m\u001b[1;33m\u001b[0m\u001b[1;33m\u001b[0m\u001b[1;33m\u001b[0m\u001b[0m\n\u001b[0;32m     22\u001b[0m         \u001b[1;32mfor\u001b[0m \u001b[0mi\u001b[0m \u001b[1;32min\u001b[0m \u001b[0mrange\u001b[0m\u001b[1;33m(\u001b[0m\u001b[0msteps\u001b[0m\u001b[1;33m)\u001b[0m\u001b[1;33m:\u001b[0m\u001b[1;33m\u001b[0m\u001b[1;33m\u001b[0m\u001b[0m\n\u001b[1;32m---> 23\u001b[1;33m             \u001b[0mindex\u001b[0m \u001b[1;33m=\u001b[0m \u001b[0mself\u001b[0m\u001b[1;33m.\u001b[0m\u001b[0mmove_selection\u001b[0m\u001b[1;33m(\u001b[0m\u001b[1;33m)\u001b[0m\u001b[1;33m\u001b[0m\u001b[1;33m\u001b[0m\u001b[0m\n\u001b[0m\u001b[0;32m     24\u001b[0m             \u001b[0mstep\u001b[0m \u001b[1;33m=\u001b[0m \u001b[0mself\u001b[0m\u001b[1;33m.\u001b[0m\u001b[0mmodel\u001b[0m\u001b[1;33m.\u001b[0m\u001b[0mconvert_index\u001b[0m\u001b[1;33m(\u001b[0m\u001b[0mindex\u001b[0m\u001b[1;33m)\u001b[0m\u001b[1;33m\u001b[0m\u001b[1;33m\u001b[0m\u001b[0m\n\u001b[0;32m     25\u001b[0m \u001b[1;33m\u001b[0m\u001b[0m\n",
      "\u001b[1;32m~\\Documents\\GitHub\\spin-glass-order\\rejection_free_monte_carlo.py\u001b[0m in \u001b[0;36mmove_selection\u001b[1;34m(self)\u001b[0m\n\u001b[0;32m     39\u001b[0m         \u001b[1;31m# as it is, this is inefficient\u001b[0m\u001b[1;33m\u001b[0m\u001b[1;33m\u001b[0m\u001b[1;33m\u001b[0m\u001b[0m\n\u001b[0;32m     40\u001b[0m         \u001b[0m_p\u001b[0m \u001b[1;33m=\u001b[0m \u001b[0mself\u001b[0m\u001b[1;33m.\u001b[0m\u001b[0mmodel\u001b[0m\u001b[1;33m.\u001b[0m\u001b[0mget_probabilities\u001b[0m\u001b[1;33m(\u001b[0m\u001b[1;33m)\u001b[0m\u001b[1;33m\u001b[0m\u001b[1;33m\u001b[0m\u001b[0m\n\u001b[1;32m---> 41\u001b[1;33m         \u001b[0m_p\u001b[0m \u001b[1;33m/=\u001b[0m \u001b[0mnp\u001b[0m\u001b[1;33m.\u001b[0m\u001b[0msum\u001b[0m\u001b[1;33m(\u001b[0m\u001b[0m_p\u001b[0m\u001b[1;33m)\u001b[0m\u001b[1;33m\u001b[0m\u001b[1;33m\u001b[0m\u001b[0m\n\u001b[0m\u001b[0;32m     42\u001b[0m         '''total = np.sum(_p)*np.random.uniform()\n\u001b[0;32m     43\u001b[0m         \u001b[0mmax\u001b[0m \u001b[1;33m=\u001b[0m \u001b[0mnp\u001b[0m\u001b[1;33m.\u001b[0m\u001b[0msize\u001b[0m\u001b[1;33m(\u001b[0m\u001b[0m_p\u001b[0m\u001b[1;33m)\u001b[0m\u001b[1;33m\u001b[0m\u001b[1;33m\u001b[0m\u001b[0m\n",
      "\u001b[1;32m<__array_function__ internals>\u001b[0m in \u001b[0;36msum\u001b[1;34m(*args, **kwargs)\u001b[0m\n",
      "\u001b[1;32mc:\\users\\jiwon\\appdata\\local\\programs\\python\\lib\\site-packages\\numpy\\core\\fromnumeric.py\u001b[0m in \u001b[0;36msum\u001b[1;34m(a, axis, dtype, out, keepdims, initial, where)\u001b[0m\n\u001b[0;32m   2240\u001b[0m \u001b[1;33m\u001b[0m\u001b[0m\n\u001b[0;32m   2241\u001b[0m     return _wrapreduction(a, np.add, 'sum', axis, dtype, out, keepdims=keepdims,\n\u001b[1;32m-> 2242\u001b[1;33m                           initial=initial, where=where)\n\u001b[0m\u001b[0;32m   2243\u001b[0m \u001b[1;33m\u001b[0m\u001b[0m\n\u001b[0;32m   2244\u001b[0m \u001b[1;33m\u001b[0m\u001b[0m\n",
      "\u001b[1;32mc:\\users\\jiwon\\appdata\\local\\programs\\python\\lib\\site-packages\\numpy\\core\\fromnumeric.py\u001b[0m in \u001b[0;36m_wrapreduction\u001b[1;34m(obj, ufunc, method, axis, dtype, out, **kwargs)\u001b[0m\n\u001b[0;32m     85\u001b[0m                 \u001b[1;32mreturn\u001b[0m \u001b[0mreduction\u001b[0m\u001b[1;33m(\u001b[0m\u001b[0maxis\u001b[0m\u001b[1;33m=\u001b[0m\u001b[0maxis\u001b[0m\u001b[1;33m,\u001b[0m \u001b[0mout\u001b[0m\u001b[1;33m=\u001b[0m\u001b[0mout\u001b[0m\u001b[1;33m,\u001b[0m \u001b[1;33m**\u001b[0m\u001b[0mpasskwargs\u001b[0m\u001b[1;33m)\u001b[0m\u001b[1;33m\u001b[0m\u001b[1;33m\u001b[0m\u001b[0m\n\u001b[0;32m     86\u001b[0m \u001b[1;33m\u001b[0m\u001b[0m\n\u001b[1;32m---> 87\u001b[1;33m     \u001b[1;32mreturn\u001b[0m \u001b[0mufunc\u001b[0m\u001b[1;33m.\u001b[0m\u001b[0mreduce\u001b[0m\u001b[1;33m(\u001b[0m\u001b[0mobj\u001b[0m\u001b[1;33m,\u001b[0m \u001b[0maxis\u001b[0m\u001b[1;33m,\u001b[0m \u001b[0mdtype\u001b[0m\u001b[1;33m,\u001b[0m \u001b[0mout\u001b[0m\u001b[1;33m,\u001b[0m \u001b[1;33m**\u001b[0m\u001b[0mpasskwargs\u001b[0m\u001b[1;33m)\u001b[0m\u001b[1;33m\u001b[0m\u001b[1;33m\u001b[0m\u001b[0m\n\u001b[0m\u001b[0;32m     88\u001b[0m \u001b[1;33m\u001b[0m\u001b[0m\n\u001b[0;32m     89\u001b[0m \u001b[1;33m\u001b[0m\u001b[0m\n",
      "\u001b[1;31mKeyboardInterrupt\u001b[0m: "
     ]
    }
   ],
   "source": [
    "# Assessing large scale performance\n",
    "import cProfile\n",
    "\n",
    "def perform():\n",
    "    model = Plaquette2D(2**8,2**8,5)\n",
    "    x = RFMC(model)\n",
    "    x.run(1e6)\n",
    "    \n",
    "cProfile.run(\"perform()\")"
   ]
  },
  {
   "cell_type": "code",
   "execution_count": 3,
   "metadata": {},
   "outputs": [
    {
     "name": "stdout",
     "output_type": "stream",
     "text": [
      "         2468637 function calls in 184.945 seconds\n",
      "\n",
      "   Ordered by: standard name\n",
      "\n",
      "   ncalls  tottime  percall  cumtime  percall filename:lineno(function)\n",
      "    90000    0.072    0.000    1.020    0.000 <__array_function__ internals>:2(amin)\n",
      "        1    0.000    0.000    0.000    0.000 <__array_function__ internals>:2(prod)\n",
      "    10000    0.012    0.000    0.086    0.000 <__array_function__ internals>:2(ravel)\n",
      "    10000    0.009    0.000    0.026    0.000 <__array_function__ internals>:2(size)\n",
      "    20000    0.020    0.000   24.996    0.001 <__array_function__ internals>:2(sum)\n",
      "    10000    0.015    0.000    0.100    0.000 <ipython-input-2-5200ec3a2d19>:11(get_probabilities)\n",
      "    10000    0.041    0.000    0.041    0.000 <ipython-input-2-5200ec3a2d19>:14(convert_index)\n",
      "        1    1.720    1.720    1.720    1.720 <ipython-input-2-5200ec3a2d19>:17(total_energy)\n",
      "        1    0.004    0.004    7.933    7.933 <ipython-input-2-5200ec3a2d19>:2(__init__)\n",
      "        1    0.602    0.602    6.181    6.181 <ipython-input-2-5200ec3a2d19>:28(_generate_energy_change_array)\n",
      "    10000    0.392    0.000    1.707    0.000 <ipython-input-2-5200ec3a2d19>:34(energy_update)\n",
      "  1138576    6.786    0.000    6.786    0.000 <ipython-input-2-5200ec3a2d19>:47(_energy_change)\n",
      "        1    0.021    0.021    0.021    0.021 <ipython-input-2-5200ec3a2d19>:64(total_probability)\n",
      "    10000    0.621    0.000    1.671    0.000 <ipython-input-2-5200ec3a2d19>:69(probability_update)\n",
      "    10000    0.041    0.000    0.041    0.000 <ipython-input-2-5200ec3a2d19>:79(glass_update)\n",
      "    10000    0.016    0.000   12.710    0.001 <ipython-input-2-5200ec3a2d19>:85(rate)\n",
      "        1    0.000    0.000  184.944  184.944 <ipython-input-3-40beba58b840>:4(perform)\n",
      "        1    0.002    0.002  184.945  184.945 <string>:1(<module>)\n",
      "    10000    0.006    0.000    0.015    0.000 _asarray.py:86(asanyarray)\n",
      "    10000    0.003    0.000    0.003    0.000 fromnumeric.py:1701(_ravel_dispatcher)\n",
      "    10000    0.026    0.000    0.063    0.000 fromnumeric.py:1705(ravel)\n",
      "    20000    0.004    0.000    0.004    0.000 fromnumeric.py:2100(_sum_dispatcher)\n",
      "    20000    0.044    0.000   24.953    0.001 fromnumeric.py:2105(sum)\n",
      "    90000    0.012    0.000    0.012    0.000 fromnumeric.py:2709(_amin_dispatcher)\n",
      "    90000    0.108    0.000    0.887    0.000 fromnumeric.py:2714(amin)\n",
      "        1    0.000    0.000    0.000    0.000 fromnumeric.py:2876(_prod_dispatcher)\n",
      "        1    0.000    0.000    0.000    0.000 fromnumeric.py:2881(prod)\n",
      "    10000    0.002    0.000    0.002    0.000 fromnumeric.py:3113(_size_dispatcher)\n",
      "    10000    0.009    0.000    0.009    0.000 fromnumeric.py:3117(size)\n",
      "   110001    0.243    0.000   25.681    0.000 fromnumeric.py:70(_wrapreduction)\n",
      "   110001    0.053    0.000    0.053    0.000 fromnumeric.py:71(<dictcomp>)\n",
      "        1    0.000    0.000    0.000    0.000 getlimits.py:237(_get_machar)\n",
      "    20000    0.044    0.000    0.052    0.000 getlimits.py:366(__new__)\n",
      "        1    0.000    0.000    0.000    0.000 getlimits.py:399(_init)\n",
      "        1    0.000    0.000    0.000    0.000 numerictypes.py:232(obj2sctype)\n",
      "    20000    0.026    0.000    0.042    0.000 numerictypes.py:286(issubclass_)\n",
      "    10000    0.022    0.000    0.065    0.000 numerictypes.py:360(issubdtype)\n",
      "        1    0.000    0.000    0.000    0.000 rejection_free_monte_carlo.py:13(__init__)\n",
      "        1    0.127    0.127  177.011  177.011 rejection_free_monte_carlo.py:17(run)\n",
      "    10000   29.261    0.003  160.558    0.016 rejection_free_monte_carlo.py:38(move_selection)\n",
      "    10000    0.047    0.000    0.155    0.000 rejection_free_monte_carlo.py:50(time_calculation)\n",
      "        1    0.000    0.000    0.000    0.000 {built-in method __new__ of type object at 0x00007FFAA3064BA0}\n",
      "        1    0.000    0.000  184.945  184.945 {built-in method builtins.exec}\n",
      "    90010    0.048    0.000    0.048    0.000 {built-in method builtins.getattr}\n",
      "    30002    0.013    0.000    0.013    0.000 {built-in method builtins.isinstance}\n",
      "    30002    0.017    0.000    0.017    0.000 {built-in method builtins.issubclass}\n",
      "        9    0.000    0.000    0.000    0.000 {built-in method builtins.setattr}\n",
      "    30000    0.147    0.000    0.147    0.000 {built-in method numpy.array}\n",
      "   130001    0.082    0.000   25.994    0.000 {built-in method numpy.core._multiarray_umath.implement_array_function}\n",
      "        3    0.000    0.000    0.000    0.000 {built-in method numpy.zeros}\n",
      "        1    0.000    0.000    0.000    0.000 {method 'append' of 'list' objects}\n",
      "    10000  118.752    0.012  118.869    0.012 {method 'choice' of 'numpy.random.mtrand.RandomState' objects}\n",
      "        1    0.000    0.000    0.000    0.000 {method 'disable' of '_lsprof.Profiler' objects}\n",
      "    20004    0.007    0.000    0.007    0.000 {method 'get' of 'dict' objects}\n",
      "   110001    0.017    0.000    0.017    0.000 {method 'items' of 'dict' objects}\n",
      "        1    0.000    0.000    0.000    0.000 {method 'newbyteorder' of 'numpy.generic' objects}\n",
      "        1    0.007    0.007    0.007    0.007 {method 'randint' of 'numpy.random.mtrand.RandomState' objects}\n",
      "    10000    0.017    0.000    0.017    0.000 {method 'ravel' of 'numpy.ndarray' objects}\n",
      "   110001   25.319    0.000   25.319    0.000 {method 'reduce' of 'numpy.ufunc' objects}\n",
      "        5    0.000    0.000    0.000    0.000 {method 'strip' of 'str' objects}\n",
      "        1    0.000    0.000    0.000    0.000 {method 'tobytes' of 'numpy.generic' objects}\n",
      "    10000    0.108    0.000    0.108    0.000 {method 'uniform' of 'numpy.random.mtrand.RandomState' objects}\n",
      "\n",
      "\n"
     ]
    }
   ],
   "source": [
    "# Assessing large scale performance\n",
    "import cProfile\n",
    "\n",
    "def perform():\n",
    "    model = Plaquette2D(2**10,2**10,5)\n",
    "    x = RFMC(model)\n",
    "    x.run(1e4)\n",
    "    \n",
    "cProfile.run(\"perform()\")"
   ]
  }
 ],
 "metadata": {
  "kernelspec": {
   "display_name": "Python 3",
   "language": "python",
   "name": "python3"
  },
  "language_info": {
   "codemirror_mode": {
    "name": "ipython",
    "version": 3
   },
   "file_extension": ".py",
   "mimetype": "text/x-python",
   "name": "python",
   "nbconvert_exporter": "python",
   "pygments_lexer": "ipython3",
   "version": "3.7.3"
  }
 },
 "nbformat": 4,
 "nbformat_minor": 4
}
